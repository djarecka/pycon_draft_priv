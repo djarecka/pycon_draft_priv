{
 "cells": [
  {
   "cell_type": "code",
   "execution_count": 3,
   "metadata": {},
   "outputs": [],
   "source": [
    "import numpy as np\n",
    "import matplotlib.pyplot as plt\n",
    "\n",
    "r1 = np.array([30, 50])\n",
    "r2 = np.array([30+(1200)**0.5, 50+20])\n",
    "r12 = r2 - r1\n",
    "m1 = 1\n",
    "m2 = 2\n",
    "\n",
    "radius = 20\n",
    "c1 = plt.Circle(r1, radius, color='r', fill=False)\n",
    "c2 = plt.Circle(r2, radius, color='r', fill=False)"
   ]
  },
  {
   "cell_type": "code",
   "execution_count": 4,
   "metadata": {},
   "outputs": [],
   "source": [
    "# wektor jednostowy nromalny\n",
    "n = r12 / np.linalg.norm(r12)"
   ]
  },
  {
   "cell_type": "code",
   "execution_count": 5,
   "metadata": {},
   "outputs": [],
   "source": [
    "# przykladowe predkosci\n",
    "v1 = [12, 12]\n",
    "v2 = [-8, -15]"
   ]
  },
  {
   "cell_type": "code",
   "execution_count": 6,
   "metadata": {},
   "outputs": [],
   "source": [
    "# predkosci normalne\n",
    "v1n = np.dot(v1, n) * n\n",
    "v2n = np.dot(v2, n) * n\n"
   ]
  },
  {
   "cell_type": "code",
   "execution_count": 7,
   "metadata": {},
   "outputs": [],
   "source": [
    "# predkosci styczne\n",
    "v1s = v1 - v1n\n",
    "v2s = v2 - v2n"
   ]
  },
  {
   "cell_type": "code",
   "execution_count": 8,
   "metadata": {},
   "outputs": [],
   "source": [
    "# koncowe predkosci\n",
    "u1s = v1s\n",
    "u2s = v2s\n",
    "\n",
    "u1n = (m1-m2) / (m1+m2) * v1n + 2*m2 / (m1+m2) * v2n\n",
    "u2n = (m2-m1) / (m1+m2) * v2n + 2*m1 / (m1+m2) * v1n\n",
    "\n",
    "u1 = u1s + u1n\n",
    "u2 = u2s + u2n"
   ]
  },
  {
   "cell_type": "code",
   "execution_count": 17,
   "metadata": {},
   "outputs": [
    {
     "name": "stdout",
     "output_type": "stream",
     "text": [
      "433.0 432.99999999999994\n"
     ]
    }
   ],
   "source": [
    "# sprawdzenie kinetycznej en\n",
    "E_i = 0.5 * (m1 * np.linalg.norm(v1)**2 + m2 * np.linalg.norm(v2)**2)\n",
    "E_f = 0.5 * (m1 * np.linalg.norm(u1)**2 + m2 * np.linalg.norm(u2)**2)\n",
    "print(E_i, E_f)"
   ]
  },
  {
   "cell_type": "code",
   "execution_count": 9,
   "metadata": {},
   "outputs": [
    {
     "data": {
      "image/png": "[encoded data removed]",
      "text/plain": [
       "<Figure size 432x288 with 1 Axes>"
      ]
     },
     "metadata": {
      "needs_background": "light"
     },
     "output_type": "display_data"
    }
   ],
   "source": [
    "fig = plt.figure()\n",
    "ax = fig.add_subplot(111,aspect='equal')\n",
    "#ax = plt.gca()\n",
    "ax.quiver(r1[0], r1[1], r12[0], r12[1], angles='xy', scale_units='xy', scale=1, color=\"k\", width=1.e-3)\n",
    "ax.quiver(0, 0, r1[0], r1[1], angles='xy', scale_units='xy', scale=1, color=\"k\", width=1.e-3)\n",
    "ax.quiver(0, 0, r2[0], r2[1], angles='xy', scale_units='xy', scale=1, color=\"k\", width=1.e-3)\n",
    "ax.quiver(r1[0], r1[1], v1[0], v1[1], angles='xy', scale_units='xy', scale=1, color=\"g\")\n",
    "ax.quiver(r2[0], r2[1], v2[0], v2[1], angles='xy', scale_units='xy', scale=1, color=\"g\")\n",
    "ax.quiver(r1[0], r1[1], v1n[0], v1n[1], angles='xy', scale_units='xy', scale=1, color=\"y\")\n",
    "ax.quiver(r2[0], r2[1], v2n[0], v2n[1], angles='xy', scale_units='xy', scale=1, color=\"y\")\n",
    "ax.quiver(r1[0], r1[1], v1s[0], v1s[1], angles='xy', scale_units='xy', scale=1, color=\"y\")\n",
    "ax.quiver(r2[0], r2[1], v2s[0], v2s[1], angles='xy', scale_units='xy', scale=1, color=\"y\")\n",
    "\n",
    "ax.quiver(r1[0], r1[1], u1[0], u1[1], angles='xy', scale_units='xy', scale=1, color=\"b\")\n",
    "ax.quiver(r2[0], r2[1], u2[0], u2[1], angles='xy', scale_units='xy', scale=1, color=\"b\")\n",
    "ax.quiver(r1[0], r1[1], u1n[0], u1n[1], angles='xy', scale_units='xy', scale=1, color=\"c\")\n",
    "ax.quiver(r2[0], r2[1], u2n[0], u2n[1], angles='xy', scale_units='xy', scale=1, color=\"c\")\n",
    "ax.quiver(r1[0], r1[1], u1s[0], u1s[1], angles='xy', scale_units='xy', scale=1, color=\"c\")\n",
    "ax.quiver(r2[0], r2[1], u2s[0], u2s[1], angles='xy', scale_units='xy', scale=1, color=\"c\")\n",
    "\n",
    "\n",
    "#ax.quiver(X, Y, V, U, angles='xy', scale_units='xy', scale=1, color=\"b\")\n",
    "ax.set_xlim([0, 100])\n",
    "ax.set_ylim([0, 100])\n",
    "#ax.set_aspec(\"equal\")\n",
    "ax.add_patch(c1)\n",
    "ax.add_patch(c2)\n",
    "\n",
    "#plt.draw()\n",
    "plt.show()"
   ]
  },
  {
   "cell_type": "code",
   "execution_count": 10,
   "metadata": {},
   "outputs": [
    {
     "data": {
      "text/plain": [
       "1.4142135623730951"
      ]
     },
     "execution_count": 10,
     "metadata": {},
     "output_type": "execute_result"
    }
   ],
   "source": [
    "# from vecpy import Vector as Vec\n",
    "# v = Vec(1, 1)\n",
    "# w = Vec(1, 0)\n",
    "# v.dot(w)\n",
    "# v.norm()"
   ]
  },
  {
   "cell_type": "code",
   "execution_count": 12,
   "metadata": {},
   "outputs": [
    {
     "data": {
      "text/plain": [
       "0.0"
      ]
     },
     "execution_count": 12,
     "metadata": {},
     "output_type": "execute_result"
    }
   ],
   "source": [
    "# import math\n",
    "# al = math.pi*3.5\n",
    "# k = 2\n",
    "# vv1 = [k*math.cos(al), k*math.sin(al)]\n",
    "# vv2 = [-k*math.sin(al), k*math.cos(al)]\n",
    "# np.dot(vv1, vv2)"
   ]
  },
  {
   "cell_type": "code",
   "execution_count": null,
   "metadata": {},
   "outputs": [],
   "source": []
  }
 ],
 "metadata": {
  "kernelspec": {
   "display_name": "Python 3",
   "language": "python",
   "name": "python3"
  },
  "language_info": {
   "codemirror_mode": {
    "name": "ipython",
    "version": 3
   },
   "file_extension": ".py",
   "mimetype": "text/x-python",
   "name": "python",
   "nbconvert_exporter": "python",
   "pygments_lexer": "ipython3",
   "version": "3.7.3"
  }
 },
 "nbformat": 4,
 "nbformat_minor": 2
}
